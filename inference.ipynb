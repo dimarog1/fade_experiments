{
 "cells": [
  {
   "cell_type": "code",
   "execution_count": 1,
   "id": "c2113f03",
   "metadata": {
    "ExecuteTime": {
     "end_time": "2024-03-13T11:10:27.838102Z",
     "start_time": "2024-03-13T11:09:18.023910Z"
    }
   },
   "outputs": [],
   "source": [
    "from audio_utils import fade\n",
    "import os\n",
    "import shutil\n",
    "import librosa\n",
    "import soundfile as sf\n",
    "import json\n",
    "import tqdm\n",
    "import numpy as np\n",
    "import lightning_module\n",
    "import mos\n",
    "import torch  \n",
    "import torchaudio\n",
    "from copy import deepcopy\n",
    "import random"
   ]
  },
  {
   "cell_type": "code",
   "outputs": [],
   "source": [
    "# Линейный фэйд с оптимальной длиной минимального ближайшего слова\n",
    "def method_1(audio: np.ndarray, center_fade: float, fade_len: float, *samples: int):\n",
    "    for ind, sample in enumerate(samples):\n",
    "        if 0 < ind < len(samples) - 1:\n",
    "            fade_duration = int(\n",
    "                min(len(audio[samples[ind - 1]:sample]), len(audio[sample:samples[ind + 1]])) / fade_len)\n",
    "        elif ind == 0 and len(samples) > 1:\n",
    "            fade_duration = int(min(len(audio[:sample]), len(audio[sample:samples[ind + 1]])) / fade_len)\n",
    "        elif ind == len(samples) - 1 and len(samples) > 1:\n",
    "            fade_duration = int(min(len(audio[samples[ind - 1]:sample]), len(audio[sample:])) / fade_len)\n",
    "        duration = int(fade_duration // 2)\n",
    "        fade(audio[:sample], audio[sample:], duration, duration, 1.0, center_fade, 1.0)\n",
    "    return audio\n",
    "\n",
    "\n",
    "# Линейный фэйд с оптимальной длиной в секундах\n",
    "def method_2(audio: np.ndarray, sr: int, center_fade: float, fade_duration: float, *samples: int):\n",
    "    duration = int((fade_duration * sr) // 2)\n",
    "    for ind, sample in enumerate(samples[1:-1]):\n",
    "        fade(audio[:sample], audio[sample:], duration, duration, 1.0, center_fade, 1.0)\n",
    "    return audio\n",
    "\n",
    "\n",
    "# Экспоненциальный фэйд с оптимальной длиной минимального ближайшего слова и силой фейда\n",
    "def method_3(audio: np.ndarray, center_fade: float, fade_len: float, fade_power: float, *samples: int):\n",
    "    for ind, sample in enumerate(samples):\n",
    "        if 0 < ind < len(samples) - 1:\n",
    "            fade_duration = int(\n",
    "                min(len(audio[samples[ind - 1]:sample]), len(audio[sample:samples[ind + 1]])) / fade_len)\n",
    "        elif ind == 0 and len(samples) > 1:\n",
    "            fade_duration = int(min(len(audio[:sample]), len(audio[sample:samples[ind + 1]])) / fade_len)\n",
    "        elif ind == len(samples) - 1 and len(samples) > 1:\n",
    "            fade_duration = int(min(len(audio[samples[ind - 1]:sample]), len(audio[sample:])) / fade_len)\n",
    "        duration = int(fade_duration // 2)\n",
    "        fade(audio[:sample], audio[sample:], duration, duration, 1.0, center_fade, 1.0, exp=fade_power)\n",
    "    return audio\n",
    "\n",
    "\n",
    "# Экспоненциальный фэйд с оптимальной длиной в секундах и силой фейда\n",
    "def method_4(audio: np.ndarray, sr: int, center_fade: float, fade_duration: float, fade_power: float, *samples: int):\n",
    "    duration = int((fade_duration * sr) // 2)\n",
    "    for ind, sample in enumerate(samples[1:-1]):\n",
    "        fade(audio[:sample], audio[sample:], duration, duration, 1.0, center_fade, 1.0, exp=fade_power)\n",
    "    return audio"
   ],
   "metadata": {
    "collapsed": false,
    "ExecuteTime": {
     "end_time": "2024-03-13T11:10:27.854104Z",
     "start_time": "2024-03-13T11:10:27.839101Z"
    }
   },
   "id": "b9a1bf6d3acf5be6",
   "execution_count": 2
  },
  {
   "cell_type": "code",
   "outputs": [],
   "source": [
    "# Чтение данных аудио\n",
    "with open('data/log.json', 'r') as logs:\n",
    "    raw_data = logs.read()\n",
    "data = json.loads(raw_data)"
   ],
   "metadata": {
    "collapsed": false,
    "ExecuteTime": {
     "end_time": "2024-03-13T11:10:27.902100Z",
     "start_time": "2024-03-13T11:10:27.856071Z"
    }
   },
   "id": "52694841ac348699",
   "execution_count": 3
  },
  {
   "cell_type": "code",
   "outputs": [
    {
     "name": "stderr",
     "output_type": "stream",
     "text": [
      "D:\\Proga\\PycharmProjects\\hi_clown\\.venv\\lib\\site-packages\\torch\\nn\\utils\\weight_norm.py:28: UserWarning: torch.nn.utils.weight_norm is deprecated in favor of torch.nn.utils.parametrizations.weight_norm.\n",
      "  warnings.warn(\"torch.nn.utils.weight_norm is deprecated in favor of torch.nn.utils.parametrizations.weight_norm.\")\n"
     ]
    }
   ],
   "source": [
    "model = lightning_module.BaselineLightningModule.load_from_checkpoint(\"epoch=3-step=7459.ckpt\").eval()"
   ],
   "metadata": {
    "collapsed": false,
    "ExecuteTime": {
     "end_time": "2024-03-13T11:10:50.178714Z",
     "start_time": "2024-03-13T11:10:27.903072Z"
    }
   },
   "id": "9e9e2be467c401c8",
   "execution_count": 4
  },
  {
   "cell_type": "code",
   "outputs": [],
   "source": [
    "def clear_folder(folder):\n",
    "    for filename in os.listdir(folder):\n",
    "        file_path = os.path.join(folder, filename)\n",
    "        try:\n",
    "            if os.path.isfile(file_path) or os.path.islink(file_path):\n",
    "                os.unlink(file_path)\n",
    "            elif os.path.isdir(file_path):\n",
    "                shutil.rmtree(file_path)\n",
    "        except Exception as e:\n",
    "            continue"
   ],
   "metadata": {
    "collapsed": false,
    "ExecuteTime": {
     "end_time": "2024-03-13T11:10:50.240715Z",
     "start_time": "2024-03-13T11:10:50.180716Z"
    }
   },
   "id": "c33d0fec5a75f524",
   "execution_count": 5
  },
  {
   "cell_type": "code",
   "outputs": [],
   "source": [
    "clear_folder('data/method_1')\n",
    "clear_folder('data/method_2')\n",
    "clear_folder('data/method_3')\n",
    "clear_folder('data/method_4')"
   ],
   "metadata": {
    "collapsed": false,
    "ExecuteTime": {
     "end_time": "2024-03-12T16:42:03.598787Z",
     "start_time": "2024-03-12T16:42:03.585273Z"
    }
   },
   "id": "a0d45c152bebde89",
   "execution_count": 6
  },
  {
   "cell_type": "code",
   "outputs": [],
   "source": [
    "# Сглаживание методом\n",
    "def smooth(audio: torch.Tensor, sr: int, audio_data: dict, method, params: tuple):\n",
    "    audio = deepcopy(audio)\n",
    "    audio = audio.squeeze(0)\n",
    "    samples = audio_data['splices']\n",
    "    if method == method_1:\n",
    "        center_fade, fade_len = params\n",
    "        smoothed = method_1(np.array(audio), center_fade, fade_len, *samples)\n",
    "    elif method == method_2:\n",
    "        center_fade, fade_duration = params\n",
    "        smoothed = method_2(np.array(audio), sr, center_fade, fade_duration, *samples)\n",
    "    elif method == method_3:\n",
    "        center_fade, fade_len, fade_power = params\n",
    "        smoothed = method_3(np.array(audio), center_fade, fade_len, fade_power, *samples)\n",
    "    else:\n",
    "        center_fade, fade_duration, fade_power = params\n",
    "        smoothed = method_4(np.array(audio), sr, center_fade, fade_duration, fade_power, *samples)\n",
    "    return torch.FloatTensor(smoothed).unsqueeze(0)"
   ],
   "metadata": {
    "collapsed": false,
    "ExecuteTime": {
     "end_time": "2024-03-13T11:10:50.255716Z",
     "start_time": "2024-03-13T11:10:50.241717Z"
    }
   },
   "id": "154ef38bb12f6e17",
   "execution_count": 6
  },
  {
   "cell_type": "code",
   "outputs": [],
   "source": [
    "# Предзагрузка всех аудио\n",
    "def load_audio(data: dict) -> None:\n",
    "    for ind, audio_data in enumerate(data):\n",
    "        data[ind]['data'] = torchaudio.load(audio_data['myPath'])\n",
    "\n",
    "\n",
    "load_audio(data)"
   ],
   "metadata": {
    "collapsed": false,
    "ExecuteTime": {
     "end_time": "2024-03-13T11:10:51.083846Z",
     "start_time": "2024-03-13T11:10:50.256717Z"
    }
   },
   "id": "1b42e93bd3fd2022",
   "execution_count": 7
  },
  {
   "cell_type": "code",
   "outputs": [],
   "source": [
    "def evaluate_1(x1, x2):\n",
    "    global data\n",
    "    all_smoothed = []\n",
    "    for number, audio_data in enumerate(data):\n",
    "        audio, sr = audio_data['data']\n",
    "        smoothed = smooth(audio, sr, audio_data, method_1, (x1, x2))\n",
    "        all_smoothed.append((smoothed, sr))\n",
    "    cur_mos = mos.cals_mos_collection(all_smoothed, model)\n",
    "    return cur_mos"
   ],
   "metadata": {
    "collapsed": false,
    "ExecuteTime": {
     "end_time": "2024-03-13T11:10:51.099965Z",
     "start_time": "2024-03-13T11:10:51.084844Z"
    }
   },
   "id": "49304bf5596d1133",
   "execution_count": 8
  },
  {
   "cell_type": "code",
   "outputs": [],
   "source": [
    "def evaluate_2(x1, x2):\n",
    "    global data\n",
    "    all_smoothed = []\n",
    "    for number, audio_data in enumerate(data):\n",
    "        audio, sr = audio_data['data']\n",
    "        smoothed = smooth(audio, sr, audio_data, method_2, (x1, x2))\n",
    "        all_smoothed.append((smoothed, sr))\n",
    "    cur_mos = mos.cals_mos_collection(all_smoothed, model)\n",
    "    return cur_mos"
   ],
   "metadata": {
    "collapsed": false,
    "ExecuteTime": {
     "end_time": "2024-03-13T11:10:51.115936Z",
     "start_time": "2024-03-13T11:10:51.100935Z"
    }
   },
   "id": "461ce51090f9bb82",
   "execution_count": 9
  },
  {
   "cell_type": "code",
   "outputs": [],
   "source": [
    "def evaluate_3(x1, x2, x3):\n",
    "    global data\n",
    "    all_smoothed = []\n",
    "    for number, audio_data in enumerate(data):\n",
    "        audio, sr = audio_data['data']\n",
    "        smoothed = smooth(audio, sr, audio_data, method_3, (x1, x2, x3))\n",
    "        all_smoothed.append((smoothed, sr))\n",
    "    cur_mos = mos.cals_mos_collection(all_smoothed, model)\n",
    "    return cur_mos"
   ],
   "metadata": {
    "collapsed": false,
    "ExecuteTime": {
     "end_time": "2024-03-13T11:10:51.131936Z",
     "start_time": "2024-03-13T11:10:51.117936Z"
    }
   },
   "id": "30961086b51210f7",
   "execution_count": 10
  },
  {
   "cell_type": "code",
   "outputs": [],
   "source": [
    "def evaluate_4(x1, x2, x3):\n",
    "    global data\n",
    "    all_smoothed = []\n",
    "    for number, audio_data in enumerate(data):\n",
    "        audio, sr = audio_data['data']\n",
    "        smoothed = smooth(audio, sr, audio_data, method_4, (x1, x2, x3))\n",
    "        all_smoothed.append((smoothed, sr))\n",
    "    cur_mos = mos.cals_mos_collection(all_smoothed, model)\n",
    "    return cur_mos"
   ],
   "metadata": {
    "collapsed": false,
    "ExecuteTime": {
     "end_time": "2024-03-13T11:10:51.147936Z",
     "start_time": "2024-03-13T11:10:51.133939Z"
    }
   },
   "id": "5563836e6f224989",
   "execution_count": 11
  },
  {
   "cell_type": "code",
   "outputs": [],
   "source": [
    "# генетический алгоритм\n",
    "def crossover(x1, x2):\n",
    "    n = len(x1)\n",
    "    child1 = []\n",
    "    child2 = []\n",
    "    for i in range(n):\n",
    "        if random.random() < 0.5:\n",
    "            child1.append(x1[i])\n",
    "            child2.append(x2[i])\n",
    "        else:\n",
    "            child1.append(x2[i])\n",
    "            child2.append(x1[i])\n",
    "    return [child1, child2]\n",
    "\n",
    "\n",
    "def replacing_mutation(bounds):\n",
    "    chromosome = [random.uniform(*bound) for bound in bounds]\n",
    "    return chromosome\n",
    "\n",
    "\n",
    "def invert_mutation(chromosome, bounds):\n",
    "    n = len(chromosome)\n",
    "    i = random.randint(0, n - 1)\n",
    "    chromosome[i] = bounds[i][1] - chromosome[i]\n",
    "    chromosome[i] = bounds[i][0] + (bounds[i][1] - chromosome[i])\n",
    "    return chromosome\n",
    "\n",
    "\n",
    "def mutation(chromosome, bounds):\n",
    "    if random.random() < 0.5:\n",
    "        return replacing_mutation(bounds)\n",
    "    return invert_mutation(chromosome, bounds)\n",
    "\n",
    "\n",
    "def genetic_algorithm(bounds, n_generations, n_individuals, crossover_rate, mutation_rate, evaluate, elitism=True):\n",
    "    global mx\n",
    "    # Генетический алгоритм\n",
    "    population = [[random.uniform(*bound) for bound in bounds]\n",
    "                  for _ in range(n_individuals)]\n",
    "\n",
    "    values = []\n",
    "    for generation in tqdm.tqdm(range(n_generations)):\n",
    "        values = [evaluate(*x) for x in population]\n",
    "        # for ind, x in enumerate(population):\n",
    "        #     try:\n",
    "        #         values.append(evaluate(*x))\n",
    "        #     except Exception as e:\n",
    "        #         print(e)\n",
    "        #         population[ind] = replacing_mutation(bounds)\n",
    "        #         values.append(0)\n",
    "\n",
    "        if elitism:\n",
    "            best_idx = np.argmax(values)\n",
    "            best_params = population[best_idx]\n",
    "            mx = max((best_params, values[best_idx]), mx, key=lambda x: x[1])\n",
    "            \n",
    "\n",
    "        for i in range(0, len(population), 2):\n",
    "            if random.random() < crossover_rate:\n",
    "                parent1, parent2 = population[i], population[i + 1]\n",
    "                child1, child2 = crossover(parent1, parent2)\n",
    "                population[i], population[i + 1] = child1, child2\n",
    "\n",
    "        for i in range(len(population)):\n",
    "            if random.random() < mutation_rate:\n",
    "                population[i] = mutation(population[i], bounds)\n",
    "\n",
    "        if elitism:\n",
    "            if evaluate(*population[best_idx]) < values[best_idx]:\n",
    "                population[best_idx] = best_params\n",
    "            mx = max((best_params, values[best_idx]), mx, key=lambda x: x[1])\n",
    "\n",
    "    best_index = np.argmax(values)\n",
    "    best_solution = population[best_index]\n",
    "    mx = max((best_params, values[best_idx]), mx, key=lambda x: x[1])\n",
    "\n",
    "    return best_solution, values[best_index]"
   ],
   "metadata": {
    "collapsed": false,
    "ExecuteTime": {
     "end_time": "2024-03-13T11:10:51.163936Z",
     "start_time": "2024-03-13T11:10:51.148938Z"
    }
   },
   "id": "c1090682211bf339",
   "execution_count": 12
  },
  {
   "cell_type": "code",
   "outputs": [
    {
     "name": "stderr",
     "output_type": "stream",
     "text": [
      "100%|██████████| 5/5 [1:18:53<00:00, 946.63s/it]\n"
     ]
    },
    {
     "name": "stdout",
     "output_type": "stream",
     "text": [
      "([0.05448562424331913, 3.5415098357336645], 3.98019945195743)\n",
      "([0.05448562424331913, 3.5415098357336645], 3.98019945195743)\n"
     ]
    }
   ],
   "source": [
    "bounds = [(0, 0.3), (1, 4)]  # границы параметров\n",
    "n_generations = 5  # количество поколений\n",
    "n_individuals = 30  # количество особей\n",
    "crossover_rate = 0.8\n",
    "mutation_rate = 0.1\n",
    "elitism = True\n",
    "evaluate = evaluate_1\n",
    "\n",
    "mx = ((0, 0), 0)\n",
    "\n",
    "res = genetic_algorithm(bounds, n_generations, n_individuals, crossover_rate, mutation_rate, evaluate, elitism)\n",
    "print(res)\n",
    "print(mx)"
   ],
   "metadata": {
    "collapsed": false,
    "ExecuteTime": {
     "end_time": "2024-03-12T19:53:00.348661Z",
     "start_time": "2024-03-12T18:34:06.792500Z"
    }
   },
   "id": "b4d42663b97da9f1",
   "execution_count": 13
  },
  {
   "cell_type": "code",
   "outputs": [
    {
     "name": "stderr",
     "output_type": "stream",
     "text": [
      "100%|██████████| 5/5 [1:17:52<00:00, 934.53s/it]"
     ]
    },
    {
     "name": "stdout",
     "output_type": "stream",
     "text": [
      "([0.03302215527954826, 0.1203492166983655], 3.953359306710107)\n",
      "([0.03302215527954826, 0.1203492166983655], 3.953359306710107)\n"
     ]
    },
    {
     "name": "stderr",
     "output_type": "stream",
     "text": [
      "\n"
     ]
    }
   ],
   "source": [
    "bounds = [(0, 0.3), (0.01, 0.3)]  # границы параметров\n",
    "n_generations = 5  # количество поколений\n",
    "n_individuals = 30  # количество особей\n",
    "crossover_rate = 0.8\n",
    "mutation_rate = 0.1\n",
    "elitism = True\n",
    "evaluate = evaluate_2\n",
    "\n",
    "mx = ((0, 0), 0)\n",
    "\n",
    "res = genetic_algorithm(bounds, n_generations, n_individuals, crossover_rate, mutation_rate, evaluate, elitism)\n",
    "print(res)\n",
    "print(mx)"
   ],
   "metadata": {
    "collapsed": false,
    "ExecuteTime": {
     "end_time": "2024-03-12T18:03:09.404878Z",
     "start_time": "2024-03-12T16:45:16.742501Z"
    }
   },
   "id": "39f19d1df221e9a4",
   "execution_count": 17
  },
  {
   "cell_type": "code",
   "outputs": [
    {
     "name": "stderr",
     "output_type": "stream",
     "text": [
      "100%|██████████| 5/5 [52:31<00:00, 630.40s/it]"
     ]
    },
    {
     "name": "stdout",
     "output_type": "stream",
     "text": [
      "([0.010267935706531438, 3.9299669247736997, 1.0884270958335511], 3.9875548252037594)\n",
      "([0.010267935706531438, 3.9299669247736997, 1.0884270958335511], 3.9875548252037594)\n"
     ]
    },
    {
     "name": "stderr",
     "output_type": "stream",
     "text": [
      "\n"
     ]
    }
   ],
   "source": [
    "bounds = [(0, 0.3), (1, 4), (0.8, 2)]  # границы параметров\n",
    "n_generations = 5  # количество поколений\n",
    "n_individuals = 30  # количество особей\n",
    "crossover_rate = 0.8\n",
    "mutation_rate = 0.1\n",
    "elitism = True\n",
    "evaluate = evaluate_3\n",
    "\n",
    "mx = ((0, 0), 0)\n",
    "\n",
    "res = genetic_algorithm(bounds, n_generations, n_individuals, crossover_rate, mutation_rate, evaluate, elitism)\n",
    "print(res)\n",
    "print(mx)"
   ],
   "metadata": {
    "collapsed": false,
    "ExecuteTime": {
     "end_time": "2024-03-13T12:03:23.169094Z",
     "start_time": "2024-03-13T11:10:51.164967Z"
    }
   },
   "id": "49f548f77d6c9f0",
   "execution_count": 13
  },
  {
   "cell_type": "code",
   "outputs": [
    {
     "name": "stderr",
     "output_type": "stream",
     "text": [
      "100%|██████████| 5/5 [51:34<00:00, 618.81s/it]"
     ]
    },
    {
     "name": "stdout",
     "output_type": "stream",
     "text": [
      "([0.011676794622551811, 0.07207032424047766, 1.6602603391084787], 3.9556299929107936)\n",
      "([0.011676794622551811, 0.07207032424047766, 1.6602603391084787], 3.9556299929107936)\n"
     ]
    },
    {
     "name": "stderr",
     "output_type": "stream",
     "text": [
      "\n"
     ]
    }
   ],
   "source": [
    "bounds = [(0, 0.3), (0.01, 0.3), (0.8, 2)]  # границы параметров\n",
    "n_generations = 5  # количество поколений\n",
    "n_individuals = 30  # количество особей\n",
    "crossover_rate = 0.8\n",
    "mutation_rate = 0.1\n",
    "elitism = True\n",
    "evaluate = evaluate_4\n",
    "\n",
    "mx = ((0, 0), 0)\n",
    "\n",
    "res = genetic_algorithm(bounds, n_generations, n_individuals, crossover_rate, mutation_rate, evaluate, elitism)\n",
    "print(res)\n",
    "print(mx)"
   ],
   "metadata": {
    "collapsed": false,
    "ExecuteTime": {
     "end_time": "2024-03-13T12:54:57.223494Z",
     "start_time": "2024-03-13T12:03:23.172096Z"
    }
   },
   "id": "8e4377fa7dd299cb",
   "execution_count": 14
  },
  {
   "cell_type": "markdown",
   "source": [
    "**Ищем лучшие параметры для method_1**"
   ],
   "metadata": {
    "collapsed": false
   },
   "id": "13edbde870fc5573"
  },
  {
   "cell_type": "code",
   "outputs": [],
   "source": [
    "# fade_duration\n",
    "best_fade_len_1 = (0, 0)\n",
    "for elem in tqdm.tqdm(range(150, 400 + 1, 10)):\n",
    "    fade_len = elem / 100\n",
    "    all_smoothed = []\n",
    "    for number, audio_data in enumerate(data):\n",
    "        audio, sr = audio_data['data']\n",
    "        samples = audio_data['splices']\n",
    "\n",
    "        smoothed = smooth(audio, sr, audio_data, method_1, (0.0, fade_len))\n",
    "        all_smoothed.append((smoothed, sr))\n",
    "    cur_mos = (mos.cals_mos_collection(all_smoothed, model), fade_len)\n",
    "    best_fade_len_1 = max(best_fade_len_1, cur_mos, key=lambda x: x[0])\n",
    "print(f'BEST FADE DURATION: {best_fade_len_1}')"
   ],
   "metadata": {
    "collapsed": false
   },
   "id": "59da3676552e93ed",
   "execution_count": null
  },
  {
   "cell_type": "code",
   "outputs": [],
   "source": [
    "# center_fade\n",
    "best_center_fade_1 = (0, 0)\n",
    "for elem in tqdm.tqdm(range(0, 300 + 1, 10)):\n",
    "    center_fade = elem / 1000\n",
    "    all_smoothed = []\n",
    "    for number, audio_data in enumerate(data):\n",
    "        audio, sr = audio_data['data']\n",
    "        samples = audio_data['splices']\n",
    "\n",
    "        smoothed = smooth(audio, sr, audio_data, method_1, (center_fade, best_fade_len_1[1]))\n",
    "        all_smoothed.append((smoothed, sr))\n",
    "    cur_mos = (mos.cals_mos_collection(all_smoothed, model), center_fade)\n",
    "    best_center_fade_1 = max(best_center_fade_1, cur_mos, key=lambda x: x[0])\n",
    "print(f'BEST FADE DURATION: {best_center_fade_1}')"
   ],
   "metadata": {
    "collapsed": false,
    "ExecuteTime": {
     "start_time": "2024-03-07T23:46:29.532305Z"
    }
   },
   "id": "d516103dcee8e8c2",
   "execution_count": null
  },
  {
   "cell_type": "markdown",
   "source": [
    "**Ищем лучшие параметры для method_2**"
   ],
   "metadata": {
    "collapsed": false
   },
   "id": "b0e86361c1d83d61"
  },
  {
   "cell_type": "code",
   "outputs": [],
   "source": [
    "# fade_duration\n",
    "best_fade_duration_2 = (0, 0)\n",
    "for elem in tqdm.tqdm(range(25, 500 + 1, 25)):\n",
    "    dur = elem / 1000\n",
    "    all_smoothed = []\n",
    "    for number, audio_data in enumerate(data):\n",
    "        audio, sr = audio_data['data']\n",
    "        samples = audio_data['splices']\n",
    "\n",
    "        smoothed = smooth(audio, sr, audio_data, method_2, (0.0, dur))\n",
    "        all_smoothed.append((smoothed, sr))\n",
    "    cur_mos = (mos.cals_mos_collection(all_smoothed, model), dur)\n",
    "    best_fade_duration_2 = max(best_fade_duration_2, cur_mos, key=lambda x: x[0])\n",
    "print(f'BEST FADE DURATION: {best_fade_duration_2}')"
   ],
   "metadata": {
    "collapsed": false,
    "ExecuteTime": {
     "start_time": "2024-03-07T23:46:29.534304Z"
    }
   },
   "id": "9d3320efe56998eb",
   "execution_count": null
  },
  {
   "cell_type": "code",
   "outputs": [],
   "source": [
    "# center fade\n",
    "best_center_fade_2 = (0, 0)\n",
    "for elem in tqdm.tqdm(range(0, 300 + 1, 10)):\n",
    "    center_fade = elem / 1000\n",
    "    all_smoothed = []\n",
    "    for number, audio_data in enumerate(data):\n",
    "        audio, sr = audio_data['data']\n",
    "        samples = audio_data['splices']\n",
    "\n",
    "        smoothed = smooth(audio, sr, audio_data, method_2, (center_fade, best_fade_duration_2[1]))\n",
    "        all_smoothed.append((smoothed, sr))\n",
    "    cur_mos = (mos.cals_mos_collection(all_smoothed, model), center_fade)\n",
    "    best_center_fade_2 = max(best_center_fade_2, cur_mos, key=lambda x: x[0])\n",
    "print(f'BEST CENTER FADE: {best_center_fade_2}')"
   ],
   "metadata": {
    "collapsed": false
   },
   "id": "dbc428c772b37c3f",
   "execution_count": null
  },
  {
   "cell_type": "markdown",
   "source": [
    "**Ищем лучшие параметры для method_3**"
   ],
   "metadata": {
    "collapsed": false
   },
   "id": "19f687b442ffb5b8"
  },
  {
   "cell_type": "code",
   "outputs": [],
   "source": [
    "# fade power and duration\n",
    "best_fade_power_and_duration_3 = (0, 0, 0)\n",
    "for len_elem in tqdm.tqdm(range(150, 400 + 1, 10)):\n",
    "    fade_len = len_elem / 100\n",
    "    for power_elem in range(800, 2000 + 1, 50):\n",
    "        power = power_elem / 1000\n",
    "        all_smoothed = []\n",
    "        for number, audio_data in enumerate(data):\n",
    "            audio, sr = audio_data['data']\n",
    "            samples = audio_data['splices']\n",
    "\n",
    "            smoothed = smooth(audio, sr, audio_data, method_3, (0.0, fade_len, power))\n",
    "            all_smoothed.append((smoothed, sr))\n",
    "        cur_mos = (mos.cals_mos_collection(all_smoothed, model), fade_len, power)\n",
    "        best_fade_power_and_duration_3 = max(best_fade_power_and_duration_3, cur_mos, key=lambda x: x[0])\n",
    "print(f'MAX MOS DURATION: {best_fade_power_and_duration_3}')"
   ],
   "metadata": {
    "collapsed": false
   },
   "id": "c82b6b2a78d77b43",
   "execution_count": null
  },
  {
   "cell_type": "code",
   "outputs": [],
   "source": [
    "# center fade\n",
    "best_center_fade_3 = (0, 0)\n",
    "for elem in tqdm.tqdm(range(0, 300 + 1, 10)):\n",
    "    center_fade = elem / 1000\n",
    "    all_smoothed = []\n",
    "    for number, audio_data in enumerate(data):\n",
    "        audio, sr = audio_data['data']\n",
    "        samples = audio_data['splices']\n",
    "\n",
    "        smoothed = smooth(audio, sr, audio_data, method_3,\n",
    "                          (center_fade, best_fade_power_and_duration_3[1], best_fade_power_and_duration_3[2]))\n",
    "        all_smoothed.append((smoothed, sr))\n",
    "    cur_mos = (mos.cals_mos_collection(all_smoothed, model), center_fade)\n",
    "    best_center_fade_3 = max(best_center_fade_3, cur_mos, key=lambda x: x[0])\n",
    "print(f'BEST CENTER FADE: {best_center_fade_3}')"
   ],
   "metadata": {
    "collapsed": false,
    "ExecuteTime": {
     "start_time": "2024-03-07T23:46:29.539304Z"
    }
   },
   "id": "ed68c6fd7e7db9f",
   "execution_count": null
  },
  {
   "cell_type": "markdown",
   "source": [
    "**Ищем лучшие параметры для method_4**"
   ],
   "metadata": {
    "collapsed": false
   },
   "id": "93f4bb714ea533e6"
  },
  {
   "cell_type": "code",
   "outputs": [],
   "source": [
    "# fade power and duration\n",
    "best_fade_power_and_duration_4 = (0, 0, 0)\n",
    "for dur_elem in tqdm.tqdm(range(25, 500 + 1, 25)):\n",
    "    fade_dur = dur_elem / 1000\n",
    "    for power_elem in range(800, 2000 + 1, 50):\n",
    "        power = power_elem / 1000\n",
    "        all_smoothed = []\n",
    "        for number, audio_data in enumerate(data):\n",
    "            audio, sr = audio_data['data']\n",
    "            samples = audio_data['splices']\n",
    "\n",
    "            smoothed = smooth(audio, sr, audio_data, method_4, (0.0, fade_dur, power))\n",
    "            all_smoothed.append((smoothed, sr))\n",
    "        cur_mos = (mos.cals_mos_collection(all_smoothed, model), fade_dur, power)\n",
    "        best_fade_power_and_duration_4 = max(best_fade_power_and_duration_4, cur_mos, key=lambda x: x[0])\n",
    "print(f'MAX MOS DURATION: {best_fade_power_and_duration_4}')"
   ],
   "metadata": {
    "collapsed": false
   },
   "id": "f7f21851ac621e15",
   "execution_count": null
  },
  {
   "cell_type": "code",
   "outputs": [],
   "source": [
    "# center fade\n",
    "best_center_fade_4 = (0, 0)\n",
    "for elem in tqdm.tqdm(range(0, 300 + 1, 10)):\n",
    "    center_fade = elem / 1000\n",
    "    all_smoothed = []\n",
    "    for number, audio_data in enumerate(data):\n",
    "        audio, sr = audio_data['data']\n",
    "        samples = audio_data['splices']\n",
    "\n",
    "        smoothed = smooth(audio, sr, audio_data, method_4,\n",
    "                          (center_fade, best_fade_power_and_duration_4[1], best_fade_power_and_duration_4[2]))\n",
    "        all_smoothed.append((smoothed, sr))\n",
    "    cur_mos = (mos.cals_mos_collection(all_smoothed, model), center_fade)\n",
    "    best_center_fade_4 = max(best_center_fade_4, cur_mos, key=lambda x: x[0])\n",
    "print(f'BEST CENTER FADE: {best_center_fade_4}')"
   ],
   "metadata": {
    "collapsed": false,
    "ExecuteTime": {
     "start_time": "2024-03-07T23:46:29.542314Z"
    }
   },
   "id": "e3c92a061c425398",
   "execution_count": null
  },
  {
   "cell_type": "code",
   "outputs": [],
   "source": [
    "# Ульта\n",
    "# max_mos_stats4 = (0, 0, 0, 0)\n",
    "# for dur in tqdm.tqdm(range(5, 315 + 1, 10)):\n",
    "#     dur /= 1000\n",
    "#     for cf in range(10, 35 + 1, 5):\n",
    "#         cf /= 100\n",
    "#         for power in range(500, 2000 + 1, 100):\n",
    "#             power /= 1000\n",
    "#             moses = []\n",
    "#             for number, audio_data in enumerate(data):\n",
    "#                 audio, sr = torchaudio.load(audio_data['myPath'])\n",
    "#                 audio = audio.squeeze(0)\n",
    "#                 samples = audio_data['splices']\n",
    "#         \n",
    "#                 smoothed_4 = method_4(np.array(audio), sr, cf, dur, power, *samples)\n",
    "#                 smoothed_4 = torch.FloatTensor(smoothed_4).unsqueeze(0)\n",
    "#                 moses.append(mos.calc_mos_raw(smoothed_4, sr, model))\n",
    "#             mos = (np.mean(moses), dur, cf, power)\n",
    "#             max_mos_stats4 = max(max_mos_stats4, mos, key=lambda x: x[0])\n",
    "# print(f'MAX MOS STATS ON METHOD_4: {max_mos_stats4}')"
   ],
   "metadata": {
    "collapsed": false
   },
   "id": "188318466cd1b30e",
   "execution_count": null
  },
  {
   "cell_type": "code",
   "outputs": [
    {
     "name": "stderr",
     "output_type": "stream",
     "text": [
      "100%|██████████| 70/70 [00:02<00:00, 24.22it/s]\n"
     ]
    }
   ],
   "source": [
    "# Первый метод\n",
    "for number, audio_data in enumerate(tqdm.tqdm(data)):\n",
    "    audio, sr = audio_data['data']\n",
    "    samples = audio_data['splices']\n",
    "\n",
    "    # smoothed_1 = smooth(audio, sr, audio_data, method_1, (best_fade_len_1[1], best_center_fade_1[1]))\n",
    "    # smoothed_2 = smooth(audio, sr, audio_data, method_2, (best_fade_duration_2[1], best_center_fade_2[1]))\n",
    "    # smoothed_3 = smooth(audio, sr, audio_data, method_3, (*best_fade_power_and_duration_3[1:], best_center_fade_3[1]))\n",
    "    # smoothed_4 = smooth(audio, sr, audio_data, method_4, (*best_fade_power_and_duration_4[1:], best_center_fade_4[1]))\n",
    "\n",
    "    # smoothed_1 = smooth(audio, sr, audio_data, method_1, (0.1371507441632939, 1.734866809913312)).squeeze(0)\n",
    "    smoothed_2 = smooth(audio, sr, audio_data, method_2, (0.03302215527954826, 0.1203492166983655)).squeeze(0)\n",
    "    # smoothed_3 = smooth(audio, sr, audio_data, method_3, (0.24, 2.3, 0.8)).squeeze(0)\n",
    "    # smoothed_4 = smooth(audio, sr, audio_data, method_4, (0.11, 0.275, 0.8)).squeeze(0)\n",
    "\n",
    "    res = []\n",
    "    # res.append((smoothed_1, 1))\n",
    "    res.append((smoothed_2, 2))\n",
    "    # res.append((smoothed_3, 3))\n",
    "    # res.append((smoothed_4, 4))\n",
    "    for method, num in res:\n",
    "        path = f'data/method_{num}/smoothed{number}.wav'\n",
    "        sf.write(path, np.array(method), int(sr))"
   ],
   "metadata": {
    "collapsed": false,
    "ExecuteTime": {
     "end_time": "2024-03-12T18:12:24.337033Z",
     "start_time": "2024-03-12T18:12:21.428156Z"
    }
   },
   "id": "ef4b9aad6ec5f14",
   "execution_count": 19
  },
  {
   "cell_type": "code",
   "outputs": [
    {
     "name": "stdout",
     "output_type": "stream",
     "text": [
      "4.075688129663467\n",
      "nan\n",
      "nan\n",
      "nan\n"
     ]
    }
   ],
   "source": [
    "print(mos.calc_mos_dir('data/method_1', model))\n",
    "print(mos.calc_mos_dir('data/method_2', model))\n",
    "print(mos.calc_mos_dir('data/method_3', model))\n",
    "print(mos.calc_mos_dir('data/method_4', model))"
   ],
   "metadata": {
    "collapsed": false,
    "ExecuteTime": {
     "end_time": "2024-03-07T23:53:41.548965Z",
     "start_time": "2024-03-07T23:53:35.198255Z"
    }
   },
   "id": "d7efda0c10babf8f",
   "execution_count": 27
  },
  {
   "cell_type": "code",
   "outputs": [],
   "source": [
    "print(mos.calc_mos_dir('data/long_trios', model))"
   ],
   "metadata": {
    "collapsed": false,
    "ExecuteTime": {
     "start_time": "2024-03-07T23:46:29.547303Z"
    }
   },
   "id": "e1964ff1935bcb71",
   "execution_count": null
  },
  {
   "cell_type": "code",
   "outputs": [],
   "source": [
    "print(mos.calc_mos_dir('data/buckets', model))"
   ],
   "metadata": {
    "collapsed": false,
    "ExecuteTime": {
     "start_time": "2024-03-07T23:46:29.548303Z"
    }
   },
   "id": "465296f0e4e24c21",
   "execution_count": null
  },
  {
   "cell_type": "code",
   "outputs": [],
   "source": [],
   "metadata": {
    "collapsed": false,
    "ExecuteTime": {
     "start_time": "2024-03-07T23:46:29.549305Z"
    }
   },
   "id": "8fdfffcd4b578788",
   "execution_count": null
  }
 ],
 "metadata": {
  "kernelspec": {
   "display_name": "Python 3 (ipykernel)",
   "language": "python",
   "name": "python3"
  },
  "language_info": {
   "codemirror_mode": {
    "name": "ipython",
    "version": 3
   },
   "file_extension": ".py",
   "mimetype": "text/x-python",
   "name": "python",
   "nbconvert_exporter": "python",
   "pygments_lexer": "ipython3",
   "version": "3.10.6"
  },
  "vscode": {
   "interpreter": {
    "hash": "31f2aee4e71d21fbe5cf8b01ff0e069b9275f58929596ceb00d14d90e3e16cd6"
   }
  }
 },
 "nbformat": 4,
 "nbformat_minor": 5
}
